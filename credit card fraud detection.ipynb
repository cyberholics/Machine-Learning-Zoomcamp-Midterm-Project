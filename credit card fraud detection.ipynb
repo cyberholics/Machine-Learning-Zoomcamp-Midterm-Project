{
 "cells": [
  {
   "cell_type": "markdown",
   "id": "a12ac92d",
   "metadata": {},
   "source": [
    "## About this project"
   ]
  },
  {
   "cell_type": "markdown",
   "id": "ba88ac6e",
   "metadata": {},
   "source": [
    "Credit card fraud can be defined as any fraud or theft that involves a credit card. Credit card fraud aims to purchase goods or steal money with someone else credit account. Advance in modern-day technology has created more room for credit card fraud. Since the invention of online purchases, perpetrators no longer need a physical card to make an unauthorized purchase. Additionally, electronic databases containing credit card data can get hacked or crash on their own, releasing customers' credit card information. These electronic database hacks put the security of many accounts at risk at once.\n",
    "\n",
    "Common forms of credit card fraud include:\n",
    "\n",
    "- Lost or stolen cards are used without their owner's permission.\n",
    "\n",
    "- Credit cards are 'skimmed,' where the card is cloned or copied using a special swipe machine to create a duplicate.\n",
    "\n",
    "- Card details, such as the card number, cardholder name, date of birth, and address, are stolen from online databases or through email scams. These stolen details are then sold and utilized for fraud on the internet or over the phone. This type of fraud is often referred to as 'card-not-present' fraud.\n",
    "\n",
    "- Fraudulent applications are made in someone else's name for a new credit card, without the person's knowledge or consent.\n",
    "\n"
   ]
  },
  {
   "cell_type": "markdown",
   "id": "e4d73c0f",
   "metadata": {},
   "source": [
    "The goal of this project is to build a fraud detection system using machine learning. This system will have the ability to classify an online credit card transaction as fraudulent or not fraudulent based on the transaction details. The machine learning model will learn from past credit card transaction data and use the patterns it learns from the data to identify if a new transaction is fraudulent or not. Furthermore, the model will be hosted as a web service that accepts credit card transaction details in a JSON data format and returns a prediction of whether the transaction is fraudulent or not. Deploying this model as a web service will be beneficial to financial institutions, banks, or online stores as they can easily feed transaction details to the machine learning system and the model will return its prediction. This can help dectecting in potential fraud in trade and therefore get the transaction flagged and declined. By identifying potential instances of fraud, companies can take steps to prevent fraudulent activity from occurring, which can save them a significant amount of money loss."
   ]
  },
  {
   "cell_type": "markdown",
   "id": "d25e5610",
   "metadata": {},
   "source": [
    "### About the dataset"
   ]
  },
  {
   "cell_type": "markdown",
   "id": "3cd88335",
   "metadata": {},
   "source": [
    "The dataset used to in this machine learning project was gotten from [kaggle](https://www.kaggle.com/datasets/dhanushnarayananr/credit-card-fraud). \n",
    "#### Data columns/features explained\n",
    "The data contains 8 features and 1000000 observations. Below is an explanation of the features.\n",
    "\n",
    "- distance_from_home - the distance from home where the transaction happened.\n",
    "- distance_from_last_transaction - the distance from last transaction happened.\n",
    "- ratio_to_median_purchase_price - Ratio of purchased price transaction to median purchase price.\n",
    "- repeat_retailer - Is the transaction happened from same retailer.\n",
    "- used_chip - Is the transaction through chip (credit card).\n",
    "- used_pin_number - Is the transaction happened by using PIN number.\n",
    "- online_order - Is the transaction an online order.\n",
    "- fraud(target) - Is the transaction fraudulent."
   ]
  },
  {
   "cell_type": "markdown",
   "id": "73446f3b",
   "metadata": {},
   "source": [
    "### Challenges in credit card fraud detection\n",
    "- It's not always easy to agree on the ground truth for what \"fraud\" means.\n",
    "- Most of the transactions are tagged as not fraudulent, therefore leading to a class imbalance of the dataset\n",
    "- Fraud detection dataset contains sensitive pieces of information, therefore a lot of data representations a usually hidden\n"
   ]
  },
  {
   "cell_type": "markdown",
   "id": "dbe03835",
   "metadata": {},
   "source": [
    "### Import libraries and load data "
   ]
  },
  {
   "cell_type": "code",
   "execution_count": 31,
   "id": "a00fd1c2",
   "metadata": {},
   "outputs": [],
   "source": [
    "import pandas as pd \n",
    "import numpy as np\n",
    "import matplotlib.pyplot as plt\n",
    "from sklearn.model_selection import train_test_split\n",
    "import imblearn\n",
    "from imblearn.over_sampling import SMOTE\n",
    "import xgboost as xgb\n",
    "from sklearn.metrics import roc_auc_score\n",
    "from sklearn.metrics import confusion_matrix"
   ]
  },
  {
   "cell_type": "code",
   "execution_count": 32,
   "id": "81447b6b",
   "metadata": {},
   "outputs": [],
   "source": [
    "data=pd.read_csv(\"/Users/victoroshimua/Downloads/card_transdata.csv\")"
   ]
  },
  {
   "cell_type": "code",
   "execution_count": 33,
   "id": "fc4ba38a",
   "metadata": {},
   "outputs": [
    {
     "data": {
      "text/html": [
       "<div>\n",
       "<style scoped>\n",
       "    .dataframe tbody tr th:only-of-type {\n",
       "        vertical-align: middle;\n",
       "    }\n",
       "\n",
       "    .dataframe tbody tr th {\n",
       "        vertical-align: top;\n",
       "    }\n",
       "\n",
       "    .dataframe thead th {\n",
       "        text-align: right;\n",
       "    }\n",
       "</style>\n",
       "<table border=\"1\" class=\"dataframe\">\n",
       "  <thead>\n",
       "    <tr style=\"text-align: right;\">\n",
       "      <th></th>\n",
       "      <th>0</th>\n",
       "      <th>1</th>\n",
       "      <th>2</th>\n",
       "      <th>3</th>\n",
       "      <th>4</th>\n",
       "    </tr>\n",
       "  </thead>\n",
       "  <tbody>\n",
       "    <tr>\n",
       "      <th>distance_from_home</th>\n",
       "      <td>57.877857</td>\n",
       "      <td>10.829943</td>\n",
       "      <td>5.091079</td>\n",
       "      <td>2.247564</td>\n",
       "      <td>44.190936</td>\n",
       "    </tr>\n",
       "    <tr>\n",
       "      <th>distance_from_last_transaction</th>\n",
       "      <td>0.311140</td>\n",
       "      <td>0.175592</td>\n",
       "      <td>0.805153</td>\n",
       "      <td>5.600044</td>\n",
       "      <td>0.566486</td>\n",
       "    </tr>\n",
       "    <tr>\n",
       "      <th>ratio_to_median_purchase_price</th>\n",
       "      <td>1.945940</td>\n",
       "      <td>1.294219</td>\n",
       "      <td>0.427715</td>\n",
       "      <td>0.362663</td>\n",
       "      <td>2.222767</td>\n",
       "    </tr>\n",
       "    <tr>\n",
       "      <th>repeat_retailer</th>\n",
       "      <td>1.000000</td>\n",
       "      <td>1.000000</td>\n",
       "      <td>1.000000</td>\n",
       "      <td>1.000000</td>\n",
       "      <td>1.000000</td>\n",
       "    </tr>\n",
       "    <tr>\n",
       "      <th>used_chip</th>\n",
       "      <td>1.000000</td>\n",
       "      <td>0.000000</td>\n",
       "      <td>0.000000</td>\n",
       "      <td>1.000000</td>\n",
       "      <td>1.000000</td>\n",
       "    </tr>\n",
       "    <tr>\n",
       "      <th>used_pin_number</th>\n",
       "      <td>0.000000</td>\n",
       "      <td>0.000000</td>\n",
       "      <td>0.000000</td>\n",
       "      <td>0.000000</td>\n",
       "      <td>0.000000</td>\n",
       "    </tr>\n",
       "    <tr>\n",
       "      <th>online_order</th>\n",
       "      <td>0.000000</td>\n",
       "      <td>0.000000</td>\n",
       "      <td>1.000000</td>\n",
       "      <td>1.000000</td>\n",
       "      <td>1.000000</td>\n",
       "    </tr>\n",
       "    <tr>\n",
       "      <th>fraud</th>\n",
       "      <td>0.000000</td>\n",
       "      <td>0.000000</td>\n",
       "      <td>0.000000</td>\n",
       "      <td>0.000000</td>\n",
       "      <td>0.000000</td>\n",
       "    </tr>\n",
       "  </tbody>\n",
       "</table>\n",
       "</div>"
      ],
      "text/plain": [
       "                                        0          1         2         3  \\\n",
       "distance_from_home              57.877857  10.829943  5.091079  2.247564   \n",
       "distance_from_last_transaction   0.311140   0.175592  0.805153  5.600044   \n",
       "ratio_to_median_purchase_price   1.945940   1.294219  0.427715  0.362663   \n",
       "repeat_retailer                  1.000000   1.000000  1.000000  1.000000   \n",
       "used_chip                        1.000000   0.000000  0.000000  1.000000   \n",
       "used_pin_number                  0.000000   0.000000  0.000000  0.000000   \n",
       "online_order                     0.000000   0.000000  1.000000  1.000000   \n",
       "fraud                            0.000000   0.000000  0.000000  0.000000   \n",
       "\n",
       "                                        4  \n",
       "distance_from_home              44.190936  \n",
       "distance_from_last_transaction   0.566486  \n",
       "ratio_to_median_purchase_price   2.222767  \n",
       "repeat_retailer                  1.000000  \n",
       "used_chip                        1.000000  \n",
       "used_pin_number                  0.000000  \n",
       "online_order                     1.000000  \n",
       "fraud                            0.000000  "
      ]
     },
     "execution_count": 33,
     "metadata": {},
     "output_type": "execute_result"
    }
   ],
   "source": [
    "data.head().T"
   ]
  },
  {
   "cell_type": "markdown",
   "id": "dcf1d579",
   "metadata": {},
   "source": [
    "### EDA"
   ]
  },
  {
   "cell_type": "code",
   "execution_count": 34,
   "id": "fea2b9c2",
   "metadata": {},
   "outputs": [
    {
     "data": {
      "text/plain": [
       "(1000000, 8)"
      ]
     },
     "execution_count": 34,
     "metadata": {},
     "output_type": "execute_result"
    }
   ],
   "source": [
    "data.shape"
   ]
  },
  {
   "cell_type": "code",
   "execution_count": 35,
   "id": "c6bcbfef",
   "metadata": {},
   "outputs": [
    {
     "data": {
      "text/plain": [
       "['distance_from_home',\n",
       " 'distance_from_last_transaction',\n",
       " 'ratio_to_median_purchase_price',\n",
       " 'repeat_retailer',\n",
       " 'used_chip',\n",
       " 'used_pin_number',\n",
       " 'online_order',\n",
       " 'fraud']"
      ]
     },
     "execution_count": 35,
     "metadata": {},
     "output_type": "execute_result"
    }
   ],
   "source": [
    "col=data.columns\n",
    "list(col)"
   ]
  },
  {
   "cell_type": "code",
   "execution_count": 36,
   "id": "3f00c94d",
   "metadata": {
    "scrolled": true
   },
   "outputs": [
    {
     "data": {
      "text/html": [
       "<div>\n",
       "<style scoped>\n",
       "    .dataframe tbody tr th:only-of-type {\n",
       "        vertical-align: middle;\n",
       "    }\n",
       "\n",
       "    .dataframe tbody tr th {\n",
       "        vertical-align: top;\n",
       "    }\n",
       "\n",
       "    .dataframe thead th {\n",
       "        text-align: right;\n",
       "    }\n",
       "</style>\n",
       "<table border=\"1\" class=\"dataframe\">\n",
       "  <thead>\n",
       "    <tr style=\"text-align: right;\">\n",
       "      <th></th>\n",
       "      <th>distance_from_home</th>\n",
       "      <th>distance_from_last_transaction</th>\n",
       "      <th>ratio_to_median_purchase_price</th>\n",
       "      <th>repeat_retailer</th>\n",
       "      <th>used_chip</th>\n",
       "      <th>used_pin_number</th>\n",
       "      <th>online_order</th>\n",
       "      <th>fraud</th>\n",
       "    </tr>\n",
       "  </thead>\n",
       "  <tbody>\n",
       "    <tr>\n",
       "      <th>count</th>\n",
       "      <td>1000000.000000</td>\n",
       "      <td>1000000.000000</td>\n",
       "      <td>1000000.000000</td>\n",
       "      <td>1000000.000000</td>\n",
       "      <td>1000000.000000</td>\n",
       "      <td>1000000.000000</td>\n",
       "      <td>1000000.000000</td>\n",
       "      <td>1000000.000000</td>\n",
       "    </tr>\n",
       "    <tr>\n",
       "      <th>mean</th>\n",
       "      <td>26.628792</td>\n",
       "      <td>5.036519</td>\n",
       "      <td>1.824182</td>\n",
       "      <td>0.881536</td>\n",
       "      <td>0.350399</td>\n",
       "      <td>0.100608</td>\n",
       "      <td>0.650552</td>\n",
       "      <td>0.087403</td>\n",
       "    </tr>\n",
       "    <tr>\n",
       "      <th>std</th>\n",
       "      <td>65.390784</td>\n",
       "      <td>25.843093</td>\n",
       "      <td>2.799589</td>\n",
       "      <td>0.323157</td>\n",
       "      <td>0.477095</td>\n",
       "      <td>0.300809</td>\n",
       "      <td>0.476796</td>\n",
       "      <td>0.282425</td>\n",
       "    </tr>\n",
       "    <tr>\n",
       "      <th>min</th>\n",
       "      <td>0.004874</td>\n",
       "      <td>0.000118</td>\n",
       "      <td>0.004399</td>\n",
       "      <td>0.000000</td>\n",
       "      <td>0.000000</td>\n",
       "      <td>0.000000</td>\n",
       "      <td>0.000000</td>\n",
       "      <td>0.000000</td>\n",
       "    </tr>\n",
       "    <tr>\n",
       "      <th>25%</th>\n",
       "      <td>3.878008</td>\n",
       "      <td>0.296671</td>\n",
       "      <td>0.475673</td>\n",
       "      <td>1.000000</td>\n",
       "      <td>0.000000</td>\n",
       "      <td>0.000000</td>\n",
       "      <td>0.000000</td>\n",
       "      <td>0.000000</td>\n",
       "    </tr>\n",
       "    <tr>\n",
       "      <th>50%</th>\n",
       "      <td>9.967760</td>\n",
       "      <td>0.998650</td>\n",
       "      <td>0.997717</td>\n",
       "      <td>1.000000</td>\n",
       "      <td>0.000000</td>\n",
       "      <td>0.000000</td>\n",
       "      <td>1.000000</td>\n",
       "      <td>0.000000</td>\n",
       "    </tr>\n",
       "    <tr>\n",
       "      <th>75%</th>\n",
       "      <td>25.743985</td>\n",
       "      <td>3.355748</td>\n",
       "      <td>2.096370</td>\n",
       "      <td>1.000000</td>\n",
       "      <td>1.000000</td>\n",
       "      <td>0.000000</td>\n",
       "      <td>1.000000</td>\n",
       "      <td>0.000000</td>\n",
       "    </tr>\n",
       "    <tr>\n",
       "      <th>max</th>\n",
       "      <td>10632.723672</td>\n",
       "      <td>11851.104565</td>\n",
       "      <td>267.802942</td>\n",
       "      <td>1.000000</td>\n",
       "      <td>1.000000</td>\n",
       "      <td>1.000000</td>\n",
       "      <td>1.000000</td>\n",
       "      <td>1.000000</td>\n",
       "    </tr>\n",
       "  </tbody>\n",
       "</table>\n",
       "</div>"
      ],
      "text/plain": [
       "       distance_from_home  distance_from_last_transaction  \\\n",
       "count      1000000.000000                  1000000.000000   \n",
       "mean            26.628792                        5.036519   \n",
       "std             65.390784                       25.843093   \n",
       "min              0.004874                        0.000118   \n",
       "25%              3.878008                        0.296671   \n",
       "50%              9.967760                        0.998650   \n",
       "75%             25.743985                        3.355748   \n",
       "max          10632.723672                    11851.104565   \n",
       "\n",
       "       ratio_to_median_purchase_price  repeat_retailer       used_chip  \\\n",
       "count                  1000000.000000   1000000.000000  1000000.000000   \n",
       "mean                         1.824182         0.881536        0.350399   \n",
       "std                          2.799589         0.323157        0.477095   \n",
       "min                          0.004399         0.000000        0.000000   \n",
       "25%                          0.475673         1.000000        0.000000   \n",
       "50%                          0.997717         1.000000        0.000000   \n",
       "75%                          2.096370         1.000000        1.000000   \n",
       "max                        267.802942         1.000000        1.000000   \n",
       "\n",
       "       used_pin_number    online_order           fraud  \n",
       "count   1000000.000000  1000000.000000  1000000.000000  \n",
       "mean          0.100608        0.650552        0.087403  \n",
       "std           0.300809        0.476796        0.282425  \n",
       "min           0.000000        0.000000        0.000000  \n",
       "25%           0.000000        0.000000        0.000000  \n",
       "50%           0.000000        1.000000        0.000000  \n",
       "75%           0.000000        1.000000        0.000000  \n",
       "max           1.000000        1.000000        1.000000  "
      ]
     },
     "execution_count": 36,
     "metadata": {},
     "output_type": "execute_result"
    }
   ],
   "source": [
    "data.describe()\n",
    "## checking for nans, sometimes nans are stored as large numbers (99999999)"
   ]
  },
  {
   "cell_type": "code",
   "execution_count": 37,
   "id": "929fa403",
   "metadata": {},
   "outputs": [
    {
     "data": {
      "text/plain": [
       "distance_from_home                False\n",
       "distance_from_last_transaction    False\n",
       "ratio_to_median_purchase_price    False\n",
       "repeat_retailer                   False\n",
       "used_chip                         False\n",
       "used_pin_number                   False\n",
       "online_order                      False\n",
       "fraud                             False\n",
       "dtype: bool"
      ]
     },
     "execution_count": 37,
     "metadata": {},
     "output_type": "execute_result"
    }
   ],
   "source": [
    "## Check for missing data\n",
    "data.isnull().any()\n"
   ]
  },
  {
   "cell_type": "markdown",
   "id": "7ab82a3c",
   "metadata": {},
   "source": [
    "##### Observation: No missing data"
   ]
  },
  {
   "cell_type": "code",
   "execution_count": 38,
   "id": "084c39b9",
   "metadata": {},
   "outputs": [
    {
     "data": {
      "text/plain": [
       "0.0    0.91\n",
       "1.0    0.09\n",
       "Name: fraud, dtype: float64"
      ]
     },
     "execution_count": 38,
     "metadata": {},
     "output_type": "execute_result"
    }
   ],
   "source": [
    "## Exploring the target \"Fraud\"\n",
    "data[\"fraud\"].value_counts(normalize=True).round(2)"
   ]
  },
  {
   "cell_type": "code",
   "execution_count": 39,
   "id": "a2bdf587",
   "metadata": {},
   "outputs": [
    {
     "data": {
      "image/png": "[encoded data removed]",
      "text/plain": [
       "<Figure size 432x288 with 1 Axes>"
      ]
     },
     "metadata": {
      "needs_background": "light"
     },
     "output_type": "display_data"
    }
   ],
   "source": [
    "data[\"fraud\"].value_counts(normalize=True).plot(kind=\"bar\")\n",
    "plt.show()"
   ]
  },
  {
   "cell_type": "markdown",
   "id": "edc1c0c0",
   "metadata": {},
   "source": [
    "#### Observation: Fraud (1) is about 10% of the class and not Fraud (0) is 90% of the class, this is a problem of class imbalance "
   ]
  },
  {
   "cell_type": "markdown",
   "id": "8dd5e63b",
   "metadata": {},
   "source": [
    "## Setting up validation framework\n",
    "#### The data set will be splitted into train(60%), validation(20%), test(20%) sets "
   ]
  },
  {
   "cell_type": "code",
   "execution_count": 40,
   "id": "85c703fa",
   "metadata": {},
   "outputs": [],
   "source": [
    "data_full_train,data_test=train_test_split(data,test_size=0.2,random_state=1)\n",
    "data_train,data_val=train_test_split(data_full_train,test_size=0.25,random_state=1)"
   ]
  },
  {
   "cell_type": "code",
   "execution_count": 41,
   "id": "0dbe182b",
   "metadata": {},
   "outputs": [
    {
     "data": {
      "text/plain": [
       "(600000, 200000, 200000)"
      ]
     },
     "execution_count": 41,
     "metadata": {},
     "output_type": "execute_result"
    }
   ],
   "source": [
    "len(data_train),len(data_test),len(data_val)"
   ]
  },
  {
   "cell_type": "code",
   "execution_count": 42,
   "id": "cc0e78ed",
   "metadata": {},
   "outputs": [],
   "source": [
    "data_train=data_train.reset_index(drop=True)\n",
    "data_test=data_test.reset_index(drop=True)\n",
    "data_val=data_val.reset_index(drop=True)\n"
   ]
  },
  {
   "cell_type": "code",
   "execution_count": 43,
   "id": "716fbe9a",
   "metadata": {},
   "outputs": [],
   "source": [
    "y_train=data_train.fraud\n",
    "y_test=data_test.fraud\n",
    "y_val=data_val.fraud"
   ]
  },
  {
   "cell_type": "code",
   "execution_count": 44,
   "id": "02b95f18",
   "metadata": {},
   "outputs": [],
   "source": [
    "del data_train['fraud']\n",
    "del data_test['fraud']\n",
    "del data_val['fraud']\n"
   ]
  },
  {
   "cell_type": "code",
   "execution_count": null,
   "id": "623f9b57",
   "metadata": {},
   "outputs": [],
   "source": [
    "data_full_train,data_test=train_test_split(data,test_size=0.2,random_state=1)\n",
    "data_train,data_val=train_test_split(data_full_train,test_size=0.25,random_state=1)\n",
    "data_train=data_train.reset_index(drop=True)\n",
    "data_test=data_test.reset_index(drop=True)\n",
    "data_val=data_val.reset_index(drop=True)\n",
    "y_train=data_train.fraud\n",
    "y_test=data_test.fraud\n",
    "y_val=data_val.fraud\n",
    "del data_train['fraud']\n",
    "del data_test['fraud']\n",
    "del data_val['fraud']\n"
   ]
  },
  {
   "cell_type": "markdown",
   "id": "9142eaf5",
   "metadata": {},
   "source": [
    "## Features Importance (Correlation)"
   ]
  },
  {
   "cell_type": "code",
   "execution_count": 45,
   "id": "436f920c",
   "metadata": {},
   "outputs": [
    {
     "data": {
      "text/html": [
       "<div>\n",
       "<style scoped>\n",
       "    .dataframe tbody tr th:only-of-type {\n",
       "        vertical-align: middle;\n",
       "    }\n",
       "\n",
       "    .dataframe tbody tr th {\n",
       "        vertical-align: top;\n",
       "    }\n",
       "\n",
       "    .dataframe thead th {\n",
       "        text-align: right;\n",
       "    }\n",
       "</style>\n",
       "<table border=\"1\" class=\"dataframe\">\n",
       "  <thead>\n",
       "    <tr style=\"text-align: right;\">\n",
       "      <th></th>\n",
       "      <th>correlation</th>\n",
       "    </tr>\n",
       "  </thead>\n",
       "  <tbody>\n",
       "    <tr>\n",
       "      <th>distance_from_home</th>\n",
       "      <td>0.185024</td>\n",
       "    </tr>\n",
       "    <tr>\n",
       "      <th>distance_from_last_transaction</th>\n",
       "      <td>0.088343</td>\n",
       "    </tr>\n",
       "    <tr>\n",
       "      <th>ratio_to_median_purchase_price</th>\n",
       "      <td>0.463126</td>\n",
       "    </tr>\n",
       "    <tr>\n",
       "      <th>repeat_retailer</th>\n",
       "      <td>-0.000997</td>\n",
       "    </tr>\n",
       "    <tr>\n",
       "      <th>used_chip</th>\n",
       "      <td>-0.060728</td>\n",
       "    </tr>\n",
       "    <tr>\n",
       "      <th>used_pin_number</th>\n",
       "      <td>-0.100202</td>\n",
       "    </tr>\n",
       "    <tr>\n",
       "      <th>online_order</th>\n",
       "      <td>0.192077</td>\n",
       "    </tr>\n",
       "    <tr>\n",
       "      <th>fraud</th>\n",
       "      <td>1.000000</td>\n",
       "    </tr>\n",
       "  </tbody>\n",
       "</table>\n",
       "</div>"
      ],
      "text/plain": [
       "                                correlation\n",
       "distance_from_home                 0.185024\n",
       "distance_from_last_transaction     0.088343\n",
       "ratio_to_median_purchase_price     0.463126\n",
       "repeat_retailer                   -0.000997\n",
       "used_chip                         -0.060728\n",
       "used_pin_number                   -0.100202\n",
       "online_order                       0.192077\n",
       "fraud                              1.000000"
      ]
     },
     "execution_count": 45,
     "metadata": {},
     "output_type": "execute_result"
    }
   ],
   "source": [
    "data_full_train.corrwith(data_full_train.fraud).to_frame('correlation')"
   ]
  },
  {
   "cell_type": "markdown",
   "id": "cc91c6a7",
   "metadata": {},
   "source": [
    "### Observations\n",
    "\n",
    "- distance_from_home: Positive correlation (0.185024) with the fraud column, indicating a weak positive relationship.\n",
    "\n",
    "- distance_from_last_transaction: Positive correlation (0.088343) with the fraud column, indicating a weak positive relationship.\n",
    "\n",
    "- ratio_to_median_purchase_price: Positive correlation (0.463126) with the fraud column, indicating a moderate positive relationship.\n",
    "\n",
    "- repeat_retailer: Almost no correlation (-0.000997) with the fraud column, suggesting no significant relationship.\n",
    "\n",
    "- used_chip: Negative correlation (-0.060728) with the fraud column, indicating a weak negative relationship.\n",
    "\n",
    "- used_pin_number: Negative correlation (-0.100202) with the fraud column, indicating a weak negative relationship.\n",
    "\n",
    "- online_order: Positive correlation (0.192077) with the fraud column, indicating a weak positive relationship.\n",
    "\n",
    "- fraud: The correlation of 1.000000 represents the correlation of the fraud column with itself, which is always perfect.\n"
   ]
  },
  {
   "cell_type": "markdown",
   "id": "b70b7531",
   "metadata": {},
   "source": [
    "## Modeling\n",
    "\n"
   ]
  },
  {
   "cell_type": "code",
   "execution_count": 68,
   "id": "64572c73",
   "metadata": {},
   "outputs": [
    {
     "name": "stderr",
     "output_type": "stream",
     "text": [
      "/Users/victoroshimua/anaconda3/lib/python3.9/site-packages/sklearn/linear_model/_logistic.py:814: ConvergenceWarning: lbfgs failed to converge (status=1):\n",
      "STOP: TOTAL NO. of ITERATIONS REACHED LIMIT.\n",
      "\n",
      "Increase the number of iterations (max_iter) or scale the data as shown in:\n",
      "    https://scikit-learn.org/stable/modules/preprocessing.html\n",
      "Please also refer to the documentation for alternative solver options:\n",
      "    https://scikit-learn.org/stable/modules/linear_model.html#logistic-regression\n",
      "  n_iter_i = _check_optimize_result(\n"
     ]
    },
    {
     "data": {
      "text/plain": [
       "0.783884515040571"
      ]
     },
     "execution_count": 68,
     "metadata": {},
     "output_type": "execute_result"
    }
   ],
   "source": [
    "# Logistic regression\n",
    "from sklearn.linear_model import LogisticRegression\n",
    "model2=LogisticRegression()\n",
    "model2.fit(data_train,y_train)\n",
    "pred2=model2.predict(data_val)\n",
    "roc_auc_score(y_val,pred2)"
   ]
  },
  {
   "cell_type": "code",
   "execution_count": 47,
   "id": "f39cdb50",
   "metadata": {},
   "outputs": [],
   "source": [
    "# Xgboost\n",
    "dtrain=xgb.DMatrix(data_train ,label= y_train)\n",
    "dval=xgb.DMatrix(data_val,label=y_val)\n",
    "xgb_params={\n",
    "    'eta': 0.1, \n",
    "    'max_depth': 3,\n",
    "    'min_child_weight': 1,\n",
    "\n",
    "    'objective': 'binary:logistic',\n",
    "    'eval_metric': 'auc',\n",
    "\n",
    "    'nthread': 8,\n",
    "    'seed': 1,\n",
    "    'verbosity': 1,\n",
    "}\n",
    "\n",
    "model = xgb.train(xgb_params, dtrain, num_boost_round=175)\n"
   ]
  },
  {
   "cell_type": "code",
   "execution_count": 69,
   "id": "529a86f6",
   "metadata": {},
   "outputs": [
    {
     "data": {
      "text/plain": [
       "array([[181337,   1212],\n",
       "       [  7427,  10024]])"
      ]
     },
     "execution_count": 69,
     "metadata": {},
     "output_type": "execute_result"
    }
   ],
   "source": [
    "confusion_matrix(y_val,pred2)"
   ]
  },
  {
   "cell_type": "markdown",
   "id": "3bc2f455",
   "metadata": {},
   "source": [
    "## Evaluating model performance\n",
    "I will use two different evaluation metrics\n",
    "- Roc_Auc (Receiver Operating Characteristic Area Under the Curve)\n",
    "- Confusion table"
   ]
  },
  {
   "cell_type": "code",
   "execution_count": 48,
   "id": "00a095da",
   "metadata": {},
   "outputs": [
    {
     "data": {
      "text/plain": [
       "0.9999999993721871"
      ]
     },
     "execution_count": 48,
     "metadata": {},
     "output_type": "execute_result"
    }
   ],
   "source": [
    "prediction = model.predict(dval)\n",
    "roc_auc_score(y_val, prediction)"
   ]
  },
  {
   "cell_type": "markdown",
   "id": "ba4c4ca9",
   "metadata": {},
   "source": [
    "#### Observation:  The ROC AUC score is 0.9999999623312275, this indicates excellent performance, suggesting that the model is highly effective in distinguishing between fraud and not fraud instances in the binary classification task."
   ]
  },
  {
   "cell_type": "code",
   "execution_count": 49,
   "id": "39e81ef9",
   "metadata": {},
   "outputs": [
    {
     "data": {
      "text/plain": [
       "array([[182549,      0],\n",
       "       [     2,  17449]])"
      ]
     },
     "execution_count": 49,
     "metadata": {},
     "output_type": "execute_result"
    }
   ],
   "source": [
    "prediction_binary = (prediction >= 0.5).astype(int)\n",
    "confusion_matrix(y_val, prediction_binary)\n"
   ]
  },
  {
   "cell_type": "markdown",
   "id": "39ff014c",
   "metadata": {},
   "source": [
    "### Observation: \n",
    "- True Positives (TP):  182,547 instances correctly predicted as Fraud.\n",
    "- False Positives (FP):  0 instances wrongly predicted as Fraud.\n",
    "- False Negatives (FN):  2 instances wrongly predicted as Not fraud.\n",
    "- True Negatives (TN): 17,449 instances correctly predicted as Not fraud.\n"
   ]
  },
  {
   "cell_type": "markdown",
   "id": "8b96cacd",
   "metadata": {},
   "source": [
    "## Training final model \n",
    "To build the machine learing model i will use XGboost model right away since XGboost perform well for class imbalance tabular data and had a beter score than logistic regression"
   ]
  },
  {
   "cell_type": "code",
   "execution_count": 50,
   "id": "2d84d331",
   "metadata": {},
   "outputs": [
    {
     "data": {
      "text/html": [
       "<div>\n",
       "<style scoped>\n",
       "    .dataframe tbody tr th:only-of-type {\n",
       "        vertical-align: middle;\n",
       "    }\n",
       "\n",
       "    .dataframe tbody tr th {\n",
       "        vertical-align: top;\n",
       "    }\n",
       "\n",
       "    .dataframe thead th {\n",
       "        text-align: right;\n",
       "    }\n",
       "</style>\n",
       "<table border=\"1\" class=\"dataframe\">\n",
       "  <thead>\n",
       "    <tr style=\"text-align: right;\">\n",
       "      <th></th>\n",
       "      <th>distance_from_home</th>\n",
       "      <th>distance_from_last_transaction</th>\n",
       "      <th>ratio_to_median_purchase_price</th>\n",
       "      <th>repeat_retailer</th>\n",
       "      <th>used_chip</th>\n",
       "      <th>used_pin_number</th>\n",
       "      <th>online_order</th>\n",
       "      <th>fraud</th>\n",
       "    </tr>\n",
       "  </thead>\n",
       "  <tbody>\n",
       "    <tr>\n",
       "      <th>771718</th>\n",
       "      <td>1.292052</td>\n",
       "      <td>0.358029</td>\n",
       "      <td>3.763149</td>\n",
       "      <td>0.0</td>\n",
       "      <td>0.0</td>\n",
       "      <td>0.0</td>\n",
       "      <td>1.0</td>\n",
       "      <td>0.0</td>\n",
       "    </tr>\n",
       "    <tr>\n",
       "      <th>521462</th>\n",
       "      <td>8.897652</td>\n",
       "      <td>0.162344</td>\n",
       "      <td>0.698735</td>\n",
       "      <td>1.0</td>\n",
       "      <td>0.0</td>\n",
       "      <td>1.0</td>\n",
       "      <td>0.0</td>\n",
       "      <td>0.0</td>\n",
       "    </tr>\n",
       "    <tr>\n",
       "      <th>137361</th>\n",
       "      <td>5.064979</td>\n",
       "      <td>5.056912</td>\n",
       "      <td>2.455824</td>\n",
       "      <td>1.0</td>\n",
       "      <td>0.0</td>\n",
       "      <td>0.0</td>\n",
       "      <td>0.0</td>\n",
       "      <td>0.0</td>\n",
       "    </tr>\n",
       "    <tr>\n",
       "      <th>404985</th>\n",
       "      <td>4.108342</td>\n",
       "      <td>5.331897</td>\n",
       "      <td>0.581530</td>\n",
       "      <td>1.0</td>\n",
       "      <td>1.0</td>\n",
       "      <td>0.0</td>\n",
       "      <td>0.0</td>\n",
       "      <td>0.0</td>\n",
       "    </tr>\n",
       "    <tr>\n",
       "      <th>910092</th>\n",
       "      <td>1.388784</td>\n",
       "      <td>1.423223</td>\n",
       "      <td>0.195103</td>\n",
       "      <td>0.0</td>\n",
       "      <td>0.0</td>\n",
       "      <td>0.0</td>\n",
       "      <td>0.0</td>\n",
       "      <td>0.0</td>\n",
       "    </tr>\n",
       "  </tbody>\n",
       "</table>\n",
       "</div>"
      ],
      "text/plain": [
       "        distance_from_home  distance_from_last_transaction  \\\n",
       "771718            1.292052                        0.358029   \n",
       "521462            8.897652                        0.162344   \n",
       "137361            5.064979                        5.056912   \n",
       "404985            4.108342                        5.331897   \n",
       "910092            1.388784                        1.423223   \n",
       "\n",
       "        ratio_to_median_purchase_price  repeat_retailer  used_chip  \\\n",
       "771718                        3.763149              0.0        0.0   \n",
       "521462                        0.698735              1.0        0.0   \n",
       "137361                        2.455824              1.0        0.0   \n",
       "404985                        0.581530              1.0        1.0   \n",
       "910092                        0.195103              0.0        0.0   \n",
       "\n",
       "        used_pin_number  online_order  fraud  \n",
       "771718              0.0           1.0    0.0  \n",
       "521462              1.0           0.0    0.0  \n",
       "137361              0.0           0.0    0.0  \n",
       "404985              0.0           0.0    0.0  \n",
       "910092              0.0           0.0    0.0  "
      ]
     },
     "execution_count": 50,
     "metadata": {},
     "output_type": "execute_result"
    }
   ],
   "source": [
    "data_full_train.head()"
   ]
  },
  {
   "cell_type": "code",
   "execution_count": 51,
   "id": "c1ec6a68",
   "metadata": {},
   "outputs": [],
   "source": [
    "Y_train=data_full_train.fraud\n",
    "X_train= data_full_train\n",
    "del X_train[\"fraud\"]"
   ]
  },
  {
   "cell_type": "code",
   "execution_count": 52,
   "id": "c4e26f01",
   "metadata": {},
   "outputs": [
    {
     "data": {
      "text/html": [
       "<div>\n",
       "<style scoped>\n",
       "    .dataframe tbody tr th:only-of-type {\n",
       "        vertical-align: middle;\n",
       "    }\n",
       "\n",
       "    .dataframe tbody tr th {\n",
       "        vertical-align: top;\n",
       "    }\n",
       "\n",
       "    .dataframe thead th {\n",
       "        text-align: right;\n",
       "    }\n",
       "</style>\n",
       "<table border=\"1\" class=\"dataframe\">\n",
       "  <thead>\n",
       "    <tr style=\"text-align: right;\">\n",
       "      <th></th>\n",
       "      <th>distance_from_home</th>\n",
       "      <th>distance_from_last_transaction</th>\n",
       "      <th>ratio_to_median_purchase_price</th>\n",
       "      <th>repeat_retailer</th>\n",
       "      <th>used_chip</th>\n",
       "      <th>used_pin_number</th>\n",
       "      <th>online_order</th>\n",
       "    </tr>\n",
       "  </thead>\n",
       "  <tbody>\n",
       "    <tr>\n",
       "      <th>771718</th>\n",
       "      <td>1.292052</td>\n",
       "      <td>0.358029</td>\n",
       "      <td>3.763149</td>\n",
       "      <td>0.0</td>\n",
       "      <td>0.0</td>\n",
       "      <td>0.0</td>\n",
       "      <td>1.0</td>\n",
       "    </tr>\n",
       "    <tr>\n",
       "      <th>521462</th>\n",
       "      <td>8.897652</td>\n",
       "      <td>0.162344</td>\n",
       "      <td>0.698735</td>\n",
       "      <td>1.0</td>\n",
       "      <td>0.0</td>\n",
       "      <td>1.0</td>\n",
       "      <td>0.0</td>\n",
       "    </tr>\n",
       "    <tr>\n",
       "      <th>137361</th>\n",
       "      <td>5.064979</td>\n",
       "      <td>5.056912</td>\n",
       "      <td>2.455824</td>\n",
       "      <td>1.0</td>\n",
       "      <td>0.0</td>\n",
       "      <td>0.0</td>\n",
       "      <td>0.0</td>\n",
       "    </tr>\n",
       "    <tr>\n",
       "      <th>404985</th>\n",
       "      <td>4.108342</td>\n",
       "      <td>5.331897</td>\n",
       "      <td>0.581530</td>\n",
       "      <td>1.0</td>\n",
       "      <td>1.0</td>\n",
       "      <td>0.0</td>\n",
       "      <td>0.0</td>\n",
       "    </tr>\n",
       "    <tr>\n",
       "      <th>910092</th>\n",
       "      <td>1.388784</td>\n",
       "      <td>1.423223</td>\n",
       "      <td>0.195103</td>\n",
       "      <td>0.0</td>\n",
       "      <td>0.0</td>\n",
       "      <td>0.0</td>\n",
       "      <td>0.0</td>\n",
       "    </tr>\n",
       "    <tr>\n",
       "      <th>...</th>\n",
       "      <td>...</td>\n",
       "      <td>...</td>\n",
       "      <td>...</td>\n",
       "      <td>...</td>\n",
       "      <td>...</td>\n",
       "      <td>...</td>\n",
       "      <td>...</td>\n",
       "    </tr>\n",
       "    <tr>\n",
       "      <th>491263</th>\n",
       "      <td>0.288026</td>\n",
       "      <td>2.405389</td>\n",
       "      <td>1.680267</td>\n",
       "      <td>0.0</td>\n",
       "      <td>1.0</td>\n",
       "      <td>0.0</td>\n",
       "      <td>1.0</td>\n",
       "    </tr>\n",
       "    <tr>\n",
       "      <th>791624</th>\n",
       "      <td>3.946646</td>\n",
       "      <td>1.943544</td>\n",
       "      <td>1.142997</td>\n",
       "      <td>1.0</td>\n",
       "      <td>0.0</td>\n",
       "      <td>0.0</td>\n",
       "      <td>1.0</td>\n",
       "    </tr>\n",
       "    <tr>\n",
       "      <th>470924</th>\n",
       "      <td>24.593870</td>\n",
       "      <td>3.228268</td>\n",
       "      <td>0.320432</td>\n",
       "      <td>1.0</td>\n",
       "      <td>1.0</td>\n",
       "      <td>0.0</td>\n",
       "      <td>0.0</td>\n",
       "    </tr>\n",
       "    <tr>\n",
       "      <th>491755</th>\n",
       "      <td>3.712287</td>\n",
       "      <td>1.225731</td>\n",
       "      <td>0.786134</td>\n",
       "      <td>1.0</td>\n",
       "      <td>1.0</td>\n",
       "      <td>0.0</td>\n",
       "      <td>1.0</td>\n",
       "    </tr>\n",
       "    <tr>\n",
       "      <th>128037</th>\n",
       "      <td>12.670200</td>\n",
       "      <td>0.754538</td>\n",
       "      <td>0.563666</td>\n",
       "      <td>1.0</td>\n",
       "      <td>1.0</td>\n",
       "      <td>0.0</td>\n",
       "      <td>0.0</td>\n",
       "    </tr>\n",
       "  </tbody>\n",
       "</table>\n",
       "<p>800000 rows × 7 columns</p>\n",
       "</div>"
      ],
      "text/plain": [
       "        distance_from_home  distance_from_last_transaction  \\\n",
       "771718            1.292052                        0.358029   \n",
       "521462            8.897652                        0.162344   \n",
       "137361            5.064979                        5.056912   \n",
       "404985            4.108342                        5.331897   \n",
       "910092            1.388784                        1.423223   \n",
       "...                    ...                             ...   \n",
       "491263            0.288026                        2.405389   \n",
       "791624            3.946646                        1.943544   \n",
       "470924           24.593870                        3.228268   \n",
       "491755            3.712287                        1.225731   \n",
       "128037           12.670200                        0.754538   \n",
       "\n",
       "        ratio_to_median_purchase_price  repeat_retailer  used_chip  \\\n",
       "771718                        3.763149              0.0        0.0   \n",
       "521462                        0.698735              1.0        0.0   \n",
       "137361                        2.455824              1.0        0.0   \n",
       "404985                        0.581530              1.0        1.0   \n",
       "910092                        0.195103              0.0        0.0   \n",
       "...                                ...              ...        ...   \n",
       "491263                        1.680267              0.0        1.0   \n",
       "791624                        1.142997              1.0        0.0   \n",
       "470924                        0.320432              1.0        1.0   \n",
       "491755                        0.786134              1.0        1.0   \n",
       "128037                        0.563666              1.0        1.0   \n",
       "\n",
       "        used_pin_number  online_order  \n",
       "771718              0.0           1.0  \n",
       "521462              1.0           0.0  \n",
       "137361              0.0           0.0  \n",
       "404985              0.0           0.0  \n",
       "910092              0.0           0.0  \n",
       "...                 ...           ...  \n",
       "491263              0.0           1.0  \n",
       "791624              0.0           1.0  \n",
       "470924              0.0           0.0  \n",
       "491755              0.0           1.0  \n",
       "128037              0.0           0.0  \n",
       "\n",
       "[800000 rows x 7 columns]"
      ]
     },
     "execution_count": 52,
     "metadata": {},
     "output_type": "execute_result"
    }
   ],
   "source": [
    "X_train"
   ]
  },
  {
   "cell_type": "code",
   "execution_count": 64,
   "id": "f2bedd8a",
   "metadata": {},
   "outputs": [],
   "source": [
    "dtrain=xgb.DMatrix(X_train, label= Y_train)\n",
    "dtest=xgb.DMatrix(data_test,label=y_test)\n",
    "xgb_params={\n",
    "    'eta': 0.1, \n",
    "    'max_depth': 3,\n",
    "    'min_child_weight': 1,\n",
    "\n",
    "    'objective': 'binary:logistic',\n",
    "    'eval_metric': 'auc',\n",
    "\n",
    "    'nthread': 8,\n",
    "    'seed': 1,\n",
    "    'verbosity': 1,\n",
    "}\n",
    "\n",
    "model = xgb.train(xgb_params, dtrain, num_boost_round=175)\n"
   ]
  },
  {
   "cell_type": "code",
   "execution_count": 71,
   "id": "37284eaa",
   "metadata": {},
   "outputs": [
    {
     "data": {
      "text/plain": [
       "1.0000000000000002"
      ]
     },
     "execution_count": 71,
     "metadata": {},
     "output_type": "execute_result"
    }
   ],
   "source": [
    "prediction = model.predict(dtest)\n",
    "roc_auc_score(y_test, prediction)"
   ]
  },
  {
   "cell_type": "code",
   "execution_count": 73,
   "id": "24c811ee",
   "metadata": {},
   "outputs": [
    {
     "data": {
      "text/plain": [
       "array([[182383,      0],\n",
       "       [     4,  17613]])"
      ]
     },
     "execution_count": 73,
     "metadata": {},
     "output_type": "execute_result"
    }
   ],
   "source": [
    "prediction_binary = (prediction >= 0.5).astype(int)\n",
    "confusion_matrix(y_test, prediction_binary)\n"
   ]
  },
  {
   "cell_type": "code",
   "execution_count": null,
   "id": "70501193",
   "metadata": {},
   "outputs": [],
   "source": []
  }
 ],
 "metadata": {
  "kernelspec": {
   "display_name": "Python 3 (ipykernel)",
   "language": "python",
   "name": "python3"
  },
  "language_info": {
   "codemirror_mode": {
    "name": "ipython",
    "version": 3
   },
   "file_extension": ".py",
   "mimetype": "text/x-python",
   "name": "python",
   "nbconvert_exporter": "python",
   "pygments_lexer": "ipython3",
   "version": "3.9.12"
  }
 },
 "nbformat": 4,
 "nbformat_minor": 5
}
