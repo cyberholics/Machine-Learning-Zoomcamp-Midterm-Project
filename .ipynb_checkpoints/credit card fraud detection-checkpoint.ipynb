{
 "cells": [
  {
   "cell_type": "markdown",
   "id": "a12ac92d",
   "metadata": {},
   "source": [
    "## About this project"
   ]
  },
  {
   "cell_type": "markdown",
   "id": "ba88ac6e",
   "metadata": {},
   "source": [
    "Credit card fraud can be defined as any fraud or theft that involves a credit card. Credit card fraud aims to purchase goods or steal money with someone else credit account. Advance in modern-day technology has created more room for credit card fraud. Since the invention of online purchases, perpetrators no longer need a physical card to make an unauthorized purchase. Additionally, electronic databases containing credit card data can get hacked or crash on their own, releasing customers' credit card information. These electronic database hacks put the security of many accounts at risk at once.\n",
    "\n",
    "Common forms of credit card fraud include:\n",
    "\n",
    "- Lost or stolen cards are used without their owner's permission.\n",
    "\n",
    "- Credit cards are 'skimmed,' where the card is cloned or copied using a special swipe machine to create a duplicate.\n",
    "\n",
    "- Card details, such as the card number, cardholder name, date of birth, and address, are stolen from online databases or through email scams. These stolen details are then sold and utilized for fraud on the internet or over the phone. This type of fraud is often referred to as 'card-not-present' fraud.\n",
    "\n",
    "- Fraudulent applications are made in someone else's name for a new credit card, without the person's knowledge or consent.\n",
    "\n"
   ]
  },
  {
   "cell_type": "markdown",
   "id": "e4d73c0f",
   "metadata": {},
   "source": [
    "The goal of this project is to build a fraud detection system using machine learning. This system will have the ability to classify an online credit card transaction as fraudulent or not fraudulent based on the transaction details. The machine learning model will learn from past credit card transaction data and use the patterns it learns from the data to identify if a new transaction is fraudulent or not. Furthermore, the model will be hosted as a web service that accepts credit card transaction details in a JSON data format and returns a prediction of whether the transaction is fraudulent or not. Deploying this model as a web service will be beneficial to financial institutions, banks, or online stores as they can easily feed transaction details to the machine learning system and the model will return its prediction. This can help dectecting in potential fraud in trade and therefore get the transaction flagged and declined. By identifying potential instances of fraud, companies can take steps to prevent fraudulent activity from occurring, which can save them a significant amount of money loss."
   ]
  },
  {
   "cell_type": "markdown",
   "id": "d25e5610",
   "metadata": {},
   "source": [
    "### About the dataset"
   ]
  },
  {
   "cell_type": "markdown",
   "id": "3cd88335",
   "metadata": {},
   "source": [
    "The dataset used to in this machine learning project was gotten from [kaggle](https://www.kaggle.com/datasets/dhanushnarayananr/credit-card-fraud). \n",
    "#### Data columns/features explained\n",
    "The data contains 8 features and 1000000 observations. Below is an explanation of the features.\n",
    "\n",
    "- distance_from_home - the distance from home where the transaction happened.\n",
    "- distance_from_last_transaction - the distance from last transaction happened.\n",
    "- ratio_to_median_purchase_price - Ratio of purchased price transaction to median purchase price.\n",
    "- repeat_retailer - Is the transaction happened from same retailer.\n",
    "- used_chip - Is the transaction through chip (credit card).\n",
    "- used_pin_number - Is the transaction happened by using PIN number.\n",
    "- online_order - Is the transaction an online order.\n",
    "- fraud(target) - Is the transaction fraudulent."
   ]
  },
  {
   "cell_type": "markdown",
   "id": "73446f3b",
   "metadata": {},
   "source": [
    "### Challenges in credit card fraud detection\n",
    "- It's not always easy to agree on the ground truth for what \"fraud\" means.\n",
    "- Most of the transactions are tagged as not fraudulent, therefore leading to a class imbalance of the dataset\n",
    "- Fraud detection dataset contains sensitive pieces of information, therefore a lot of data representations a usually hidden\n"
   ]
  },
  {
   "cell_type": "markdown",
   "id": "dbe03835",
   "metadata": {},
   "source": [
    "### Import libraries and load data "
   ]
  },
  {
   "cell_type": "code",
   "execution_count": null,
   "id": "a00fd1c2",
   "metadata": {},
   "outputs": [],
   "source": [
    "import pandas as pd \n",
    "import numpy as np\n",
    "import matplotlib.pyplot as plt\n",
    "from sklearn.model_selection import train_test_split\n",
    "import imblearn\n",
    "from imblearn.over_sampling import SMOTE\n",
    "import xgboost as xgb\n",
    "from sklearn.metrics import roc_auc_score\n",
    "from sklearn.metrics import confusion_matrix\n"
   ]
  },
  {
   "cell_type": "code",
   "execution_count": null,
   "id": "81447b6b",
   "metadata": {},
   "outputs": [],
   "source": [
    "data=pd.read_csv(\"/Users/victoroshimua/Downloads/card_transdata.csv\")"
   ]
  },
  {
   "cell_type": "code",
   "execution_count": null,
   "id": "fc4ba38a",
   "metadata": {},
   "outputs": [],
   "source": [
    "data.head().T"
   ]
  },
  {
   "cell_type": "markdown",
   "id": "dcf1d579",
   "metadata": {},
   "source": [
    "### EDA"
   ]
  },
  {
   "cell_type": "code",
   "execution_count": null,
   "id": "fea2b9c2",
   "metadata": {},
   "outputs": [],
   "source": [
    "data.shape"
   ]
  },
  {
   "cell_type": "code",
   "execution_count": null,
   "id": "c6bcbfef",
   "metadata": {},
   "outputs": [],
   "source": [
    "col=data.columns\n",
    "list(col)"
   ]
  },
  {
   "cell_type": "code",
   "execution_count": null,
   "id": "3f00c94d",
   "metadata": {
    "scrolled": true
   },
   "outputs": [],
   "source": [
    "data.describe()\n",
    "## checking for nans, sometimes nans are stored as large numbers (99999999)"
   ]
  },
  {
   "cell_type": "code",
   "execution_count": null,
   "id": "929fa403",
   "metadata": {},
   "outputs": [],
   "source": [
    "## Check for missing data\n",
    "data.isnull().any()\n"
   ]
  },
  {
   "cell_type": "markdown",
   "id": "7ab82a3c",
   "metadata": {},
   "source": [
    "##### Observation: No missing data"
   ]
  },
  {
   "cell_type": "code",
   "execution_count": null,
   "id": "084c39b9",
   "metadata": {},
   "outputs": [],
   "source": [
    "## Exploring the target \"Fraud\"\n",
    "data[\"fraud\"].value_counts(normalize=True).round(2)"
   ]
  },
  {
   "cell_type": "code",
   "execution_count": null,
   "id": "a2bdf587",
   "metadata": {},
   "outputs": [],
   "source": [
    "data[\"fraud\"].value_counts(normalize=True).plot(kind=\"bar\")\n",
    "plt.show()"
   ]
  },
  {
   "cell_type": "markdown",
   "id": "edc1c0c0",
   "metadata": {},
   "source": [
    "#### Observation: Fraud (1) is about 10% of the class and not Fraud (0) is 90% of the class, this is a problem of class imbalance "
   ]
  },
  {
   "cell_type": "markdown",
   "id": "8dd5e63b",
   "metadata": {},
   "source": [
    "## Setting up validation framework\n",
    "#### The data set will be splitted into train(60%), validation(20%), test(20%) sets "
   ]
  },
  {
   "cell_type": "code",
   "execution_count": null,
   "id": "85c703fa",
   "metadata": {},
   "outputs": [],
   "source": [
    "data_full_train,data_test=train_test_split(data,test_size=0.2,random_state=1)\n",
    "data_train,data_val=train_test_split(data_full_train,test_size=0.25,random_state=1)"
   ]
  },
  {
   "cell_type": "code",
   "execution_count": null,
   "id": "0dbe182b",
   "metadata": {},
   "outputs": [],
   "source": [
    "len(data_train),len(data_test),len(data_val)"
   ]
  },
  {
   "cell_type": "code",
   "execution_count": null,
   "id": "cc0e78ed",
   "metadata": {},
   "outputs": [],
   "source": [
    "data_train=data_train.reset_index(drop=True)\n",
    "data_test=data_test.reset_index(drop=True)\n",
    "data_val=data_val.reset_index(drop=True)\n"
   ]
  },
  {
   "cell_type": "code",
   "execution_count": null,
   "id": "716fbe9a",
   "metadata": {},
   "outputs": [],
   "source": [
    "y_train=data_train.fraud\n",
    "y_test=data_test.fraud\n",
    "y_val=data_val.fraud"
   ]
  },
  {
   "cell_type": "code",
   "execution_count": null,
   "id": "02b95f18",
   "metadata": {},
   "outputs": [],
   "source": [
    "del data_train['fraud']\n",
    "del data_test['fraud']\n",
    "del data_val['fraud']\n"
   ]
  },
  {
   "cell_type": "code",
   "execution_count": null,
   "id": "623f9b57",
   "metadata": {},
   "outputs": [],
   "source": [
    "data_full_train,data_test=train_test_split(data,test_size=0.2,random_state=1)\n",
    "data_train,data_val=train_test_split(data_full_train,test_size=0.25,random_state=1)\n",
    "data_train=data_train.reset_index(drop=True)\n",
    "data_test=data_test.reset_index(drop=True)\n",
    "data_val=data_val.reset_index(drop=True)\n",
    "y_train=data_train.fraud\n",
    "y_test=data_test.fraud\n",
    "y_val=data_val.fraud\n",
    "del data_train['fraud']\n",
    "del data_test['fraud']\n",
    "del data_val['fraud']\n"
   ]
  },
  {
   "cell_type": "markdown",
   "id": "9142eaf5",
   "metadata": {},
   "source": [
    "## Features Importance (Correlation)"
   ]
  },
  {
   "cell_type": "code",
   "execution_count": null,
   "id": "436f920c",
   "metadata": {},
   "outputs": [],
   "source": [
    "data_full_train.corrwith(data_full_train.fraud).to_frame('correlation')"
   ]
  },
  {
   "cell_type": "markdown",
   "id": "cc91c6a7",
   "metadata": {},
   "source": [
    "### Observations\n",
    "\n",
    "- distance_from_home: Positive correlation (0.185024) with the fraud column, indicating a weak positive relationship.\n",
    "\n",
    "- distance_from_last_transaction: Positive correlation (0.088343) with the fraud column, indicating a weak positive relationship.\n",
    "\n",
    "- ratio_to_median_purchase_price: Positive correlation (0.463126) with the fraud column, indicating a moderate positive relationship.\n",
    "\n",
    "- repeat_retailer: Almost no correlation (-0.000997) with the fraud column, suggesting no significant relationship.\n",
    "\n",
    "- used_chip: Negative correlation (-0.060728) with the fraud column, indicating a weak negative relationship.\n",
    "\n",
    "- used_pin_number: Negative correlation (-0.100202) with the fraud column, indicating a weak negative relationship.\n",
    "\n",
    "- online_order: Positive correlation (0.192077) with the fraud column, indicating a weak positive relationship.\n",
    "\n",
    "- fraud: The correlation of 1.000000 represents the correlation of the fraud column with itself, which is always perfect.\n"
   ]
  },
  {
   "cell_type": "markdown",
   "id": "b70b7531",
   "metadata": {},
   "source": [
    "## Modeling\n",
    "\n"
   ]
  },
  {
   "cell_type": "code",
   "execution_count": null,
   "id": "64572c73",
   "metadata": {},
   "outputs": [],
   "source": [
    "# Logistic regression\n",
    "from sklearn.linear_model import LogisticRegression\n",
    "model2=LogisticRegression()\n",
    "model2.fit(data_train,y_train)\n",
    "pred2=model2.predict(data_val)\n",
    "roc_auc_score(y_val,pred2)"
   ]
  },
  {
   "cell_type": "code",
   "execution_count": null,
   "id": "f39cdb50",
   "metadata": {},
   "outputs": [],
   "source": [
    "# Xgboost\n",
    "dtrain=xgb.DMatrix(data_train ,label= y_train)\n",
    "dval=xgb.DMatrix(data_val,label=y_val)\n",
    "xgb_params={\n",
    "    'eta': 0.1, \n",
    "    'max_depth': 3,\n",
    "    'min_child_weight': 1,\n",
    "\n",
    "    'objective': 'binary:logistic',\n",
    "    'eval_metric': 'auc',\n",
    "\n",
    "    'nthread': 8,\n",
    "    'seed': 1,\n",
    "    'verbosity': 1,\n",
    "}\n",
    "\n",
    "model = xgb.train(xgb_params, dtrain, num_boost_round=175)\n"
   ]
  },
  {
   "cell_type": "code",
   "execution_count": null,
   "id": "529a86f6",
   "metadata": {},
   "outputs": [],
   "source": [
    "confusion_matrix(y_val,pred2)"
   ]
  },
  {
   "cell_type": "markdown",
   "id": "3bc2f455",
   "metadata": {},
   "source": [
    "## Evaluating model performance\n",
    "I will use two different evaluation metrics\n",
    "- Roc_Auc (Receiver Operating Characteristic Area Under the Curve)\n",
    "- Confusion table"
   ]
  },
  {
   "cell_type": "code",
   "execution_count": null,
   "id": "00a095da",
   "metadata": {},
   "outputs": [],
   "source": [
    "prediction = model.predict(dval)\n",
    "roc_auc_score(y_val, prediction)"
   ]
  },
  {
   "cell_type": "markdown",
   "id": "ba4c4ca9",
   "metadata": {},
   "source": [
    "#### Observation:  The ROC AUC score is 0.9999999623312275, this indicates excellent performance, suggesting that the model is highly effective in distinguishing between fraud and not fraud instances in the binary classification task."
   ]
  },
  {
   "cell_type": "code",
   "execution_count": null,
   "id": "39e81ef9",
   "metadata": {},
   "outputs": [],
   "source": [
    "prediction_binary = (prediction >= 0.5).astype(int)\n",
    "confusion_matrix(y_val, prediction_binary)\n"
   ]
  },
  {
   "cell_type": "markdown",
   "id": "39ff014c",
   "metadata": {},
   "source": [
    "### Observation: \n",
    "- True Positives (TP):  182,547 instances correctly predicted as Fraud.\n",
    "- False Positives (FP):  0 instances wrongly predicted as Fraud.\n",
    "- False Negatives (FN):  2 instances wrongly predicted as Not fraud.\n",
    "- True Negatives (TN): 17,449 instances correctly predicted as Not fraud.\n"
   ]
  },
  {
   "cell_type": "markdown",
   "id": "8b96cacd",
   "metadata": {},
   "source": [
    "## Training final model \n",
    "To build the machine learing model i will use XGboost model right away since XGboost perform well for class imbalance tabular data and had a beter score than logistic regression."
   ]
  },
  {
   "cell_type": "code",
   "execution_count": null,
   "id": "2d84d331",
   "metadata": {},
   "outputs": [],
   "source": [
    "data_full_train.head()"
   ]
  },
  {
   "cell_type": "code",
   "execution_count": null,
   "id": "c1ec6a68",
   "metadata": {},
   "outputs": [],
   "source": [
    "Y_train=data_full_train.fraud\n",
    "X_train= data_full_train\n",
    "del X_train[\"fraud\"]"
   ]
  },
  {
   "cell_type": "code",
   "execution_count": null,
   "id": "c4e26f01",
   "metadata": {},
   "outputs": [],
   "source": [
    "X_train"
   ]
  },
  {
   "cell_type": "code",
   "execution_count": null,
   "id": "810a713f",
   "metadata": {},
   "outputs": [],
   "source": [
    "dtrain=xgb.DMatrix(X_train, label= Y_train)\n",
    "dtest=xgb.DMatrix(data_test,label=y_test)\n",
    "xgb_params={\n",
    "    'eta': 0.1, \n",
    "    'max_depth': 3,\n",
    "    'min_child_weight': 1,\n",
    "\n",
    "    'objective': 'binary:logistic',\n",
    "    'eval_metric': 'auc',\n",
    "\n",
    "    'nthread': 8,\n",
    "    'seed': 1,\n",
    "    'verbosity': 1,\n",
    "}\n",
    "\n",
    "final_model = xgb.train(xgb_params, dtrain, num_boost_round=175)\n"
   ]
  },
  {
   "cell_type": "code",
   "execution_count": 142,
   "id": "37284eaa",
   "metadata": {},
   "outputs": [
    {
     "name": "stdout",
     "output_type": "stream",
     "text": [
      "[1.2192187e-06 4.0555601e-06 1.1942626e-06 ... 3.7370939e-04 1.2192187e-06\n",
      " 4.0555601e-06]\n"
     ]
    }
   ],
   "source": [
    "prediction = final_model.predict(dtest)\n",
    "print(prediction)"
   ]
  },
  {
   "cell_type": "code",
   "execution_count": 143,
   "id": "8a0fcb73",
   "metadata": {},
   "outputs": [
    {
     "data": {
      "text/plain": [
       "True"
      ]
     },
     "execution_count": 143,
     "metadata": {},
     "output_type": "execute_result"
    }
   ],
   "source": []
  },
  {
   "cell_type": "code",
   "execution_count": 131,
   "id": "affd5ccd",
   "metadata": {},
   "outputs": [
    {
     "data": {
      "text/plain": [
       "distance_from_home                1.980857\n",
       "distance_from_last_transaction    5.042472\n",
       "ratio_to_median_purchase_price    0.588908\n",
       "repeat_retailer                   1.000000\n",
       "used_chip                         0.000000\n",
       "used_pin_number                   0.000000\n",
       "online_order                      0.000000\n",
       "Name: 3, dtype: float64"
      ]
     },
     "execution_count": 131,
     "metadata": {},
     "output_type": "execute_result"
    }
   ],
   "source": [
    "data_test.iloc[3]"
   ]
  },
  {
   "cell_type": "code",
   "execution_count": 138,
   "id": "24c811ee",
   "metadata": {},
   "outputs": [
    {
     "name": "stdout",
     "output_type": "stream",
     "text": [
      "182387 17613\n"
     ]
    }
   ],
   "source": [
    "prediction_binary = (prediction >= 0.5).astype(int)\n",
    "count0= 0\n",
    "count1= 0\n",
    "for i in prediction_binary:\n",
    "    if i ==0:\n",
    "        count0 +=1\n",
    "    else:\n",
    "        count1 +=1\n",
    "print(count0,count1)\n",
    "\n"
   ]
  },
  {
   "cell_type": "code",
   "execution_count": 139,
   "id": "96d5e98e",
   "metadata": {},
   "outputs": [
    {
     "data": {
      "text/plain": [
       "array([0, 0, 0, ..., 0, 0, 0])"
      ]
     },
     "execution_count": 139,
     "metadata": {},
     "output_type": "execute_result"
    }
   ],
   "source": [
    "prediction_binary"
   ]
  },
  {
   "cell_type": "markdown",
   "id": "89d17372",
   "metadata": {},
   "source": [
    "#### roc_auc_score"
   ]
  },
  {
   "cell_type": "code",
   "execution_count": null,
   "id": "18025551",
   "metadata": {},
   "outputs": [],
   "source": [
    "roc_auc_score(y_test, prediction)"
   ]
  },
  {
   "cell_type": "markdown",
   "id": "29937319",
   "metadata": {},
   "source": [
    "#### confusion table"
   ]
  },
  {
   "cell_type": "code",
   "execution_count": null,
   "id": "a6d58d61",
   "metadata": {},
   "outputs": [],
   "source": [
    "confusion_matrix(y_test, prediction_binary)"
   ]
  },
  {
   "cell_type": "markdown",
   "id": "77bb1337",
   "metadata": {},
   "source": [
    "#### Accuracy"
   ]
  },
  {
   "cell_type": "code",
   "execution_count": null,
   "id": "04f0ac95",
   "metadata": {},
   "outputs": [],
   "source": [
    "(y_test==prediction_binary).mean()"
   ]
  },
  {
   "cell_type": "markdown",
   "id": "4569d114",
   "metadata": {},
   "source": [
    "## Feature importance Xgboost\n",
    "Weight and Gain \n",
    "- Weight focuses on the frequency of feature usage\n",
    "- Gain emphasizes the contribution of a feature to the model's performance."
   ]
  },
  {
   "cell_type": "code",
   "execution_count": 97,
   "id": "e5810365",
   "metadata": {},
   "outputs": [
    {
     "data": {
      "text/plain": [
       "[('ratio_to_median_purchase_price', 2899.43701171875),\n",
       " ('online_order', 2386.5302734375),\n",
       " ('distance_from_home', 1214.861328125),\n",
       " ('used_pin_number', 1117.2647705078125),\n",
       " ('used_chip', 1028.78564453125),\n",
       " ('distance_from_last_transaction', 818.9542236328125)]"
      ]
     },
     "execution_count": 97,
     "metadata": {},
     "output_type": "execute_result"
    }
   ],
   "source": [
    "scores = final_model.get_score(importance_type='gain')\n",
    "scores = sorted(scores.items(), key=lambda x: x[1])\n",
    "list(reversed(scores))"
   ]
  },
  {
   "cell_type": "code",
   "execution_count": 99,
   "id": "d36e3086",
   "metadata": {},
   "outputs": [
    {
     "data": {
      "image/png": "[encoded data removed]",
      "text/plain": [
       "<Figure size 432x288 with 1 Axes>"
      ]
     },
     "metadata": {
      "needs_background": "light"
     },
     "output_type": "display_data"
    }
   ],
   "source": [
    "data = [('ratio_to_median_purchase_price', 2899.43701171875),\n",
    " ('online_order', 2386.5302734375),\n",
    " ('distance_from_home', 1214.861328125),\n",
    " ('used_pin_number', 1117.2647705078125),\n",
    " ('used_chip', 1028.78564453125),\n",
    " ('distance_from_last_transaction', 818.9542236328125)]\n",
    "\n",
    "\n",
    "# Extract feature names and corresponding weights\n",
    "feature_names = [item[0] for item in data]\n",
    "gain = [item[1] for item in data]\n",
    "\n",
    "# Create bar plot\n",
    "plt.barh(feature_names, gain)\n",
    "plt.xlabel('Feature Importance')\n",
    "plt.ylabel('Feature')\n",
    "plt.title('Feature Importance based on gain')\n",
    "plt.show()\n"
   ]
  },
  {
   "cell_type": "markdown",
   "id": "e5a0ed36",
   "metadata": {},
   "source": [
    "#### Observations: the most important feature here is 'ratio_to_median_purchase_price'"
   ]
  },
  {
   "cell_type": "code",
   "execution_count": 94,
   "id": "aa12d671",
   "metadata": {},
   "outputs": [
    {
     "data": {
      "text/plain": [
       "[('distance_from_home', 297.0),\n",
       " ('ratio_to_median_purchase_price', 280.0),\n",
       " ('online_order', 197.0),\n",
       " ('distance_from_last_transaction', 178.0),\n",
       " ('used_pin_number', 149.0),\n",
       " ('used_chip', 93.0)]"
      ]
     },
     "execution_count": 94,
     "metadata": {},
     "output_type": "execute_result"
    }
   ],
   "source": [
    "\n",
    "scores= model.get_score(importance_type='weight')\n",
    "scores = sorted(scores.items(), key=lambda x: x[1])\n",
    "list(reversed(scores))"
   ]
  },
  {
   "cell_type": "code",
   "execution_count": 96,
   "id": "14891c1b",
   "metadata": {},
   "outputs": [
    {
     "data": {
      "image/png": "[encoded data removed]",
      "text/plain": [
       "<Figure size 432x288 with 1 Axes>"
      ]
     },
     "metadata": {
      "needs_background": "light"
     },
     "output_type": "display_data"
    }
   ],
   "source": [
    "data = [('distance_from_home', 297.0),\n",
    "        ('ratio_to_median_purchase_price', 280.0),\n",
    "        ('online_order', 197.0),\n",
    "        ('distance_from_last_transaction', 178.0),\n",
    "        ('used_pin_number', 149.0),\n",
    "        ('used_chip', 93.0)]\n",
    "\n",
    "# Extract feature names and corresponding weights\n",
    "feature_names = [item[0] for item in data]\n",
    "weights = [item[1] for item in data]\n",
    "\n",
    "# Create bar plot\n",
    "plt.barh(feature_names, weights)\n",
    "plt.xlabel('Feature Importance')\n",
    "plt.ylabel('Feature')\n",
    "plt.title('Feature Importance based on Weight')\n",
    "plt.show()\n"
   ]
  },
  {
   "cell_type": "markdown",
   "id": "f724172b",
   "metadata": {},
   "source": [
    "#### Observations: the most important feature here is 'distance from home'"
   ]
  },
  {
   "cell_type": "markdown",
   "id": "e6366e27",
   "metadata": {},
   "source": [
    "## Using the model\n",
    "Lets see how the model predicts spam using a sample dataset"
   ]
  },
  {
   "cell_type": "code",
   "execution_count": 146,
   "id": "138fd6f9",
   "metadata": {},
   "outputs": [
    {
     "name": "stdout",
     "output_type": "stream",
     "text": [
      "[0.9965683]\n",
      "1\n"
     ]
    }
   ],
   "source": [
    "transaction = data_test.iloc[4]\n",
    "transaction_dmatrix = xgb.DMatrix(pd.DataFrame(transaction).T)\n",
    "prediction_ = final_model.predict(transaction_dmatrix)\n",
    "print(prediction_)\n",
    "threshold=0.5\n",
    "prediction_binary = 1 if prediction_ >= threshold else 0\n",
    "print(prediction_binary)\n"
   ]
  },
  {
   "cell_type": "code",
   "execution_count": 125,
   "id": "51f13f3e",
   "metadata": {},
   "outputs": [
    {
     "data": {
      "text/plain": [
       "{'distance_from_home': 3.7178814229360753,\n",
       " 'distance_from_last_transaction': 0.6056207892902588,\n",
       " 'ratio_to_median_purchase_price': 3.4968284580728675,\n",
       " 'repeat_retailer': 1.0,\n",
       " 'used_chip': 1.0,\n",
       " 'used_pin_number': 0.0,\n",
       " 'online_order': 1.0}"
      ]
     },
     "execution_count": 125,
     "metadata": {},
     "output_type": "execute_result"
    }
   ],
   "source": [
    "transaction"
   ]
  },
  {
   "cell_type": "markdown",
   "id": "7706ea5a",
   "metadata": {},
   "source": [
    "## Saving the model \n",
    "For this i will use bentoml. Saving the model wll enable me get the model in a machine learnig service and Run it (the model) in an API"
   ]
  },
  {
   "cell_type": "code",
   "execution_count": 109,
   "id": "82e88bbf",
   "metadata": {},
   "outputs": [
    {
     "data": {
      "text/plain": [
       "Model(tag=\"fraud_detection:bprowgqxoozr4wfq\", path=\"/Users/victoroshimua/bentoml/models/fraud_detection/bprowgqxoozr4wfq/\")"
      ]
     },
     "execution_count": 109,
     "metadata": {},
     "output_type": "execute_result"
    }
   ],
   "source": [
    "import bentoml\n",
    "bentoml.xgboost.save_model(\"fraud_detection\", final_model)"
   ]
  },
  {
   "cell_type": "markdown",
   "id": "d92911af",
   "metadata": {},
   "source": [
    "### Testing if the saved model worked"
   ]
  },
  {
   "cell_type": "code",
   "execution_count": 128,
   "id": "03c5916b",
   "metadata": {},
   "outputs": [
    {
     "name": "stdout",
     "output_type": "stream",
     "text": [
      "[4.05556e-06]\n",
      "0\n"
     ]
    }
   ],
   "source": [
    "import bentoml\n",
    "booster = bentoml.xgboost.load_model(\"fraud_detection:latest\")\n",
    "transaction_details = {\n",
    "    \"distance_from_home\": 3.7178814229360753,\n",
    "    \"distance_from_last_transaction\": 0.6056207892902588,\n",
    "    \"ratio_to_median_purchase_price\": 3.4968284580728675,\n",
    "    \"repeat_retailer\": 1.0,\n",
    "    \"used_chip\": 1.0,\n",
    "    \"used_pin_number\": 0.0,\n",
    "    \"online_order\": 1.0\n",
    "}\n",
    "\n",
    "df = pd.DataFrame(transaction_details, index=[0])\n",
    "\n",
    "prediction=booster.predict(xgb.DMatrix(df))\n",
    "print(prediction)\n",
    "threshold=0.5\n",
    "predicton_binary=1 if prediction >= threshold else 0\n",
    "print(predicton_binary)"
   ]
  },
  {
   "cell_type": "code",
   "execution_count": 148,
   "id": "af47118a",
   "metadata": {},
   "outputs": [
    {
     "name": "stdout",
     "output_type": "stream",
     "text": [
      "{\n",
      "  \"distance_from_home\": 1.9808574511514092,\n",
      "  \"distance_from_last_transaction\": 5.04247186357492,\n",
      "  \"ratio_to_median_purchase_price\": 0.5889080718859896,\n",
      "  \"repeat_retailer\": 1.0,\n",
      "  \"used_chip\": 0.0,\n",
      "  \"used_pin_number\": 0.0,\n",
      "  \"online_order\": 0.0\n",
      "}\n"
     ]
    }
   ],
   "source": [
    "import json\n",
    "request = data_test.iloc[3].to_dict()\n",
    "print(json.dumps(request, indent=2))\n"
   ]
  },
  {
   "cell_type": "code",
   "execution_count": null,
   "id": "07da2dba",
   "metadata": {},
   "outputs": [],
   "source": [
    "fraud =  \"distance_from_home\": 42.29620833829316,\n",
    "  \"distance_from_last_transaction\": 0.3205190486789607,\n",
    "  \"ratio_to_median_purchase_price\": 4.080047993541461,\n",
    "  \"repeat_retailer\": 1.0,\n",
    "  \"used_chip\": 1.0,\n",
    "  \"used_pin_number\": 0.0,\n",
    "  \"online_order\": 1.0"
   ]
  },
  {
   "cell_type": "code",
   "execution_count": null,
   "id": "d41f8e3e",
   "metadata": {},
   "outputs": [],
   "source": [
    "not_fraud = \"distance_from_home\": 1.9808574511514092,\n",
    "  \"distance_from_last_transaction\": 5.04247186357492,\n",
    "  \"ratio_to_median_purchase_price\": 0.5889080718859896,\n",
    "  \"repeat_retailer\": 1.0,\n",
    "  \"used_chip\": 0.0,\n",
    "  \"used_pin_number\": 0.0,\n",
    "  \"online_order\": 0.0"
   ]
  }
 ],
 "metadata": {
  "kernelspec": {
   "display_name": "Python 3 (ipykernel)",
   "language": "python",
   "name": "python3"
  },
  "language_info": {
   "codemirror_mode": {
    "name": "ipython",
    "version": 3
   },
   "file_extension": ".py",
   "mimetype": "text/x-python",
   "name": "python",
   "nbconvert_exporter": "python",
   "pygments_lexer": "ipython3",
   "version": "3.9.12"
  }
 },
 "nbformat": 4,
 "nbformat_minor": 5
}
