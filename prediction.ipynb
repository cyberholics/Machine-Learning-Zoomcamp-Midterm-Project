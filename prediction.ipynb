{
 "cells": [
  {
   "cell_type": "code",
   "execution_count": 1,
   "id": "6d3caf95",
   "metadata": {},
   "outputs": [
    {
     "data": {
      "text/plain": [
       "{'description': 'This is not a fraudulent transaction',\n",
       " 'fraud': False,\n",
       " 'fraud_probability': 1.2192186886750278e-06}"
      ]
     },
     "execution_count": 1,
     "metadata": {},
     "output_type": "execute_result"
    }
   ],
   "source": [
    "import requests\n",
    "\n",
    "t = {\n",
    "  \"distance_from_home\": 1.9808574511514092,\n",
    "  \"distance_from_last_transaction\": 5.04247186357492,\n",
    "  \"ratio_to_median_purchase_price\": 0.5889080718859896,\n",
    "  \"repeat_retailer\": 1.0,\n",
    "  \"used_chip\": 0.0,\n",
    "  \"used_pin_number\": 0.0,\n",
    "  \"online_order\": 0.0\n",
    "}\n",
    "\n",
    "\n",
    "\n",
    "url = 'http://localhost:9696/predict'\n",
    "response = requests.post(url, json=t).json()\n",
    "response\n"
   ]
  },
  {
   "cell_type": "code",
   "execution_count": null,
   "id": "5b6d50cb",
   "metadata": {},
   "outputs": [],
   "source": [
    "t={\n",
    "  \"distance_from_home\": 1.9808574511514092,\n",
    "  \"distance_from_last_transaction\": 5.04247186357492,\n",
    "  \"ratio_to_median_purchase_price\": 0.5889080718859896,\n",
    "  \"repeat_retailer\": 1.0,\n",
    "  \"used_chip\": 0.0,\n",
    "  \"used_pin_number\": 0.0,\n",
    "  \"online_order\": 0.0\n",
    "}"
   ]
  }
 ],
 "metadata": {
  "kernelspec": {
   "display_name": "Python 3 (ipykernel)",
   "language": "python",
   "name": "python3"
  },
  "language_info": {
   "codemirror_mode": {
    "name": "ipython",
    "version": 3
   },
   "file_extension": ".py",
   "mimetype": "text/x-python",
   "name": "python",
   "nbconvert_exporter": "python",
   "pygments_lexer": "ipython3",
   "version": "3.9.12"
  }
 },
 "nbformat": 4,
 "nbformat_minor": 5
}
